{
  "nbformat": 4,
  "nbformat_minor": 0,
  "metadata": {
    "colab": {
      "provenance": [],
      "machine_shape": "hm",
      "gpuType": "T4",
      "collapsed_sections": [
        "klzSfQPfwSNV"
      ]
    },
    "kernelspec": {
      "name": "python3",
      "display_name": "Python 3"
    },
    "language_info": {
      "name": "python"
    }
  },
  "cells": [
    {
      "cell_type": "markdown",
      "source": [
        "##Disclaimer\n",
        "\n",
        "\n",
        "Disclaimer: The \"Roop\" face swapping application is provided for entertainment purposes only. Users are responsible for obtaining proper consent and permissions before using the application to swap faces in images or videos. The accuracy of results may vary based on various factors. The application should not be used for deceptive, defamatory, explicit, or unethical purposes. We do not guarantee flawless results and disclaim any liability for any misinterpretation or consequences resulting from the use of this application. Users are solely responsible for complying with applicable laws and respecting others' rights. Use the \"Roop\" application at your own risk.\n"
      ],
      "metadata": {
        "id": "glwNVbldZ1Id"
      }
    },
    {
      "cell_type": "markdown",
      "source": [
        "[Open Notebook in Google Colab](https://colab.research.google.com/github/ryf123/roop_colab/blob/main/roop_colab.ipynb)"
      ],
      "metadata": {
        "id": "RM_YzyG6oee9"
      }
    },
    {
      "cell_type": "code",
      "execution_count": null,
      "metadata": {
        "id": "ZqdQ95WTKCSQ",
        "outputId": "f80dd6d1-283e-42a7-d6e4-0a6b4ce0cec6",
        "colab": {
          "base_uri": "https://localhost:8080/"
        }
      },
      "outputs": [
        {
          "output_type": "stream",
          "name": "stdout",
          "text": [
            "Cloning into 'roop'...\n",
            "remote: Enumerating objects: 1375, done.\u001b[K\n",
            "remote: Counting objects: 100% (19/19), done.\u001b[K\n",
            "remote: Compressing objects: 100% (17/17), done.\u001b[K\n",
            "remote: Total 1375 (delta 3), reused 9 (delta 1), pack-reused 1356\u001b[K\n",
            "Receiving objects: 100% (1375/1375), 90.74 MiB | 29.19 MiB/s, done.\n",
            "Resolving deltas: 100% (819/819), done.\n"
          ]
        }
      ],
      "source": [
        "#@title 1. Clone the code\n",
        "!git clone https://github.com/s0md3v/roop.git\n",
        "!git clone https://github.com/ryf123/roop_colab"
      ]
    },
    {
      "cell_type": "code",
      "source": [
        "# @title 2. Install requirements\n",
        "%cd /content/roop\n",
        "!pip install -r requirements.txt"
      ],
      "metadata": {
        "id": "f6urrvLGKqcU"
      },
      "execution_count": null,
      "outputs": []
    },
    {
      "cell_type": "code",
      "source": [
        "#@title 3.Get source and target image or video, and start to replace\n",
        "import os, sys\n",
        "source = \"/content/roop_colab/1.jpg\" #@param {type:\"string\"}\n",
        "target = \"/content/roop_colab/4.jpg\" #@param {type:\"string\"}\n",
        "output = \"/content/roop_colab/out.jpg\" #@param {type:\"string\"}\n",
        "\n",
        "Device = \"cpu\" #@param [\"cuda\", \"cpu\"]\n",
        "\n",
        "Processor = \"face_swapper face_enhancer\" #@param [\"face_swapper face_enhancer\", \"face_swapper\",\"face_enhancer\"]\n",
        "\n",
        "VideoEncoder = \"libx264\" #@param [\"libx264\", \"libx265\",\"ibvpx-vp9\"]\n",
        "\n",
        "VideoQuality = \"18\" #@param {type:\"string\"}\n",
        "\n",
        "if os.path.exists(source) and os.path.exists(target):\n",
        "    cmd = f\"run.py --execution-provider {Device} -s {source} -t {target} -o {output} --frame-processor {Processor}\"\n",
        "    print(\"cmd:\"+cmd)\n",
        "    !python $cmd\n",
        "    print()\n",
        "else:\n",
        "    print(\"Source or target file does not exist.\")\n"
      ],
      "metadata": {
        "id": "cMJi9bI3LUyX"
      },
      "execution_count": null,
      "outputs": []
    },
    {
      "cell_type": "markdown",
      "source": [
        "\n",
        "##Use files from google drive\n",
        "\n",
        "\n",
        "If you need to use files from Google Drive, you can click on this script to mount your Google Drive. This is awesome!\"\n",
        "\n",
        "from google.colab import drive  \n",
        "drive.mount('/content/drive')"
      ],
      "metadata": {
        "id": "klzSfQPfwSNV"
      }
    }
  ]
}