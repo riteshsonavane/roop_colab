{
  "nbformat": 4,
  "nbformat_minor": 0,
  "metadata": {
    "colab": {
      "provenance": [],
      "gpuType": "T4",
      "collapsed_sections": [
        "klzSfQPfwSNV"
      ],
      "history_visible": true
    },
    "kernelspec": {
      "name": "python3",
      "display_name": "Python 3"
    },
    "language_info": {
      "name": "python"
    }
  },
  "cells": [
    {
      "cell_type": "markdown",
      "source": [
        "##Disclaimer\n",
        "\n",
        "\n",
        "Disclaimer: The \"Roop\" face swapping application is provided for entertainment purposes only. Users are responsible for obtaining proper consent and permissions before using the application to swap faces in images or videos. The accuracy of results may vary based on various factors. The application should not be used for deceptive, defamatory, explicit, or unethical purposes. We do not guarantee flawless results and disclaim any liability for any misinterpretation or consequences resulting from the use of this application. Users are solely responsible for complying with applicable laws and respecting others' rights. Use the \"Roop\" application at your own risk.\n"
      ],
      "metadata": {
        "id": "glwNVbldZ1Id"
      }
    },
    {
      "cell_type": "markdown",
      "source": [
        "[Open Notebook in Google Colab](https://colab.research.google.com/github/ryf123/roop_colab/blob/main/roop_colab.ipynb)"
      ],
      "metadata": {
        "id": "RM_YzyG6oee9"
      }
    },
    {
      "cell_type": "code",
      "execution_count": null,
      "metadata": {
        "id": "ZqdQ95WTKCSQ"
      },
      "outputs": [],
      "source": [
        "#@title 1. Clone the code\n",
        "!git clone https://github.com/s0md3v/roop.git\n",
        "!git clone https://github.com/ryf123/roop_colab"
      ]
    },
    {
      "cell_type": "code",
      "source": [
        "# @title 2. Install requirements\n",
        "%cd /content/roop\n",
        "!pip install -r requirements.txt"
      ],
      "metadata": {
        "id": "f6urrvLGKqcU"
      },
      "execution_count": null,
      "outputs": []
    },
    {
      "cell_type": "code",
      "source": [
        "#@title 3.Get source and target image or video, and start to replace\n",
        "import os, sys\n",
        "source = \"/content/roop_colab/source.jpg\" #@param {type:\"string\"}\n",
        "target = \"/content/roop_colab/target.jpeg\" #@param {type:\"string\"}\n",
        "output = \"/content/roop_colab/new.jpg\" #@param {type:\"string\"}\n",
        "\n",
        "Device = \"cpu\" #@param [\"cuda\", \"cpu\"]\n",
        "\n",
        "Processor = \"face_swapper\" #@param [\"face_swapper face_enhancer\", \"face_swapper\",\"face_enhancer\"]\n",
        "\n",
        "VideoEncoder = \"libx264\" #@param [\"libx264\", \"libx265\",\"ibvpx-vp9\"]\n",
        "\n",
        "VideoQuality = \"18\" #@param {type:\"string\"}\n",
        "\n",
        "if os.path.exists(source) and os.path.exists(target):\n",
        "    cmd = f\"run.py --execution-provider {Device} -s {source} -t {target} -o {output} --frame-processor {Processor} --keep-frames --similar-face-distance 3 --keep-fps --execution-threads 16\"\n",
        "    print(\"cmd:\"+cmd)\n",
        "    !python $cmd\n",
        "else:\n",
        "    print(\"Source or target file does not exist.\")\n"
      ],
      "metadata": {
        "id": "cMJi9bI3LUyX"
      },
      "execution_count": null,
      "outputs": []
    },
    {
      "cell_type": "code",
      "source": [
        "%mv /content/roop_colab/debug.py /content/roop/debug.py\n",
        "%mv /content/roop_colab/core.py /content/roop/roop/core.py\n",
        "%mv /content/roop_colab/face_swapper.py /content/roop/roop/processors/frame/face_swapper.py\n",
        "%cd /content/roop/\n",
        "!python debug.py"
      ],
      "metadata": {
        "id": "bUB10ItlZHlv"
      },
      "execution_count": null,
      "outputs": []
    }
  ]
}